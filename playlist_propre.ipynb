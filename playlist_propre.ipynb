{
 "cells": [
  {
   "cell_type": "code",
   "execution_count": 2,
   "metadata": {},
   "outputs": [],
   "source": [
    "#importation des bibliothèques nécessaires\n",
    "import selenium\n",
    "import re\n",
    "from selenium import webdriver"
   ]
  },
  {
   "cell_type": "code",
   "execution_count": 3,
   "metadata": {},
   "outputs": [],
   "source": [
    "def recup_bdd(id_chaine) :\n",
    "    \n",
    "    #chaine = chaine.replace(' ' , '')\n",
    "    #initialisation webdriver\n",
    "    chrome = webdriver.Chrome(executable_path=\"./scrap_playlist/chromedriver\")\n",
    "    \n",
    "    #récupération des données\n",
    "    bdd = []\n",
    "    lien = 'https://www.youtube.com/channel/{}/playlists?view=1&sort=dd&shelf_id=0'.format(id_chaine)\n",
    "    chrome.get(lien)\n",
    "    chrome.refresh()\n",
    "    tag = chrome.find_elements_by_css_selector('a')\n",
    "    l_url = []\n",
    "    l_title = []\n",
    "    for a in tag:\n",
    "        url = a.get_attribute('href')\n",
    "        try:\n",
    "            if url.startswith(\"https://www.youtube.com/playlist?\"):\n",
    "                l_url.append(url)\n",
    "            if url.startswith(\"https://www.youtube.com/watch?\"):\n",
    "                l_title.append(a.get_attribute('title'))\n",
    "        except:\n",
    "            pass\n",
    "\n",
    "    l_title = list(filter(None,l_title))\n",
    "\n",
    "    for idx,i in enumerate(l_url) :\n",
    "        \n",
    "            chrome.get(i)\n",
    "            tag = chrome.find_element_by_id(\"stats\")\n",
    "            res = []\n",
    "            for j in tag.find_elements_by_tag_name('span'):\n",
    "                res.append(j.text)\n",
    "                \n",
    "            desc = chrome.find_element_by_id('description')\n",
    "            description = desc.find_elements_by_tag_name('yt-formatted-string')[0].text\n",
    "            \n",
    "            #Obtenier\n",
    "            img = chrome.find_elements_by_css_selector('img')[0].get_attribute('src')\n",
    "            \n",
    "            \n",
    "            a = chrome.find_elements_by_class_name('style-scope ytd-thumbnail-overlay-time-status-renderer')\n",
    "            p = [z.text for z in a]\n",
    "        \n",
    "            if len(res)>0:\n",
    "                nbr_videos = res[0]\n",
    "                if len(res)==5:\n",
    "                    last_modif = res[2]+res[3]+res[4]\n",
    "                    last_modif = last_modif.replace('Mise à jour il y a','')\n",
    "\n",
    "                if len(res)==4:\n",
    "                    last_modif = res[2]+res[3]\n",
    "                    last_modif = last_modif.replace('Dernière modification le','')\n",
    "                \n",
    "                if len(res)==2:\n",
    "                    nbr_videos = 0\n",
    "                    last_modif = res[1]\n",
    "            else:\n",
    "                #Si une video la liste est vide\n",
    "                nbr_videos = 1\n",
    "                \n",
    "            vues = chrome.find_element_by_xpath(\"//yt-formatted-string[2]\").text\n",
    "            vues = vues.replace('\\u202f','')\n",
    "            id_playlist = re.findall(r'https:\\/\\/www\\.youtube\\.com\\/playlist\\?list=([a-zA-Z0-9-_]*)',i)[0]\n",
    "\n",
    "            bdd.append({ '_id' : id_playlist,\n",
    "                    'id_youtubeur' : id_chaine,\n",
    "                    'playlist' : l_title[idx],\n",
    "                    'nbr_videos' : nbr_videos,\n",
    "                    'derniere_MAJ' : last_modif,\n",
    "                    'vues' : vues,\n",
    "                    'url_img' : img,\n",
    "                    'description': description,\n",
    "                    'video_n': list(filter(None,p))\n",
    "                   })\n",
    "    chrome.quit()\n",
    "    return bdd"
   ]
  },
  {
   "cell_type": "code",
   "execution_count": 4,
   "metadata": {
    "scrolled": true
   },
   "outputs": [],
   "source": [
    "test = recup_bdd('UC33rpHD9QGwsCEUPU_mrh1A')"
   ]
  },
  {
   "cell_type": "code",
   "execution_count": 5,
   "metadata": {},
   "outputs": [
    {
     "data": {
      "text/plain": [
       "{'_id': 'PLQut5OXpV-0gk9CcjfInV9hNIEAld-Tpp',\n",
       " 'id_youtubeur': 'UC33rpHD9QGwsCEUPU_mrh1A',\n",
       " 'playlist': 'AWIPS',\n",
       " 'nbr_videos': '3',\n",
       " 'derniere_MAJ': '13 juil. 2020',\n",
       " 'vues': '41 vues',\n",
       " 'url_img': 'https://i.ytimg.com/vi/hjytnJOxrOg/hqdefault.jpg?sqp=-oaymwEXCNACELwBSFryq4qpAwkIARUAAIhCGAE=&rs=AOn4CLBhOFcrwPvTwTh4w0qYOdTlyKa0Rw',\n",
       " 'description': '',\n",
       " 'video_n': ['4:19', '0:20', '0:20']}"
      ]
     },
     "execution_count": 5,
     "metadata": {},
     "output_type": "execute_result"
    }
   ],
   "source": [
    "test[0]"
   ]
  }
 ],
 "metadata": {
  "kernelspec": {
   "display_name": "Python 3",
   "language": "python",
   "name": "python3"
  },
  "language_info": {
   "codemirror_mode": {
    "name": "ipython",
    "version": 3
   },
   "file_extension": ".py",
   "mimetype": "text/x-python",
   "name": "python",
   "nbconvert_exporter": "python",
   "pygments_lexer": "ipython3",
   "version": "3.7.4"
  }
 },
 "nbformat": 4,
 "nbformat_minor": 2
}
